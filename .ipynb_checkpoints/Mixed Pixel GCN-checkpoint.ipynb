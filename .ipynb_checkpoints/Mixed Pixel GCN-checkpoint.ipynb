{
 "cells": [
  {
   "cell_type": "code",
   "execution_count": 1,
   "metadata": {},
   "outputs": [],
   "source": [
    "%run \"model.py\""
   ]
  },
  {
   "cell_type": "code",
   "execution_count": 2,
   "metadata": {},
   "outputs": [],
   "source": [
    "def train_dense(batch_size, epoch_len, echo, seed, learn_rate, hamiltonian, hidden_features, nonlinearity, bias, max_dist):\n",
    "    \n",
    "    torch.manual_seed(seed)\n",
    "    model = HolographicPixelGCN(\n",
    "                EnergyModel(\n",
    "                    hamiltonian, # Ising critical point\n",
    "                    SymmetricGroup(2), \n",
    "                    Lattice(4, 2, max_dist)), \n",
    "                hidden_features, nonlinearity, bias)\n",
    "    optimizer = optim.Adam(model.parameters(), lr = learn_rate)\n",
    "    \n",
    "    train_loss = 0.\n",
    "    free_energy = 0.\n",
    "    tot_var = 0.\n",
    "    \n",
    "    for epoch in range(epoch_len):\n",
    "        \n",
    "        x = model.sample(batch_size)\n",
    "        log_prob = model.log_prob(x)\n",
    "        energy = model.energy(x)\n",
    "        free = energy + log_prob.detach()\n",
    "        meanfree = free.mean()\n",
    "        loss = (log_prob * (free - meanfree)).sum()\n",
    "        optimizer.zero_grad()\n",
    "        loss.backward()\n",
    "        optimizer.step()\n",
    "        train_loss += loss.item()\n",
    "        free_energy += meanfree.item()\n",
    "        with torch.no_grad():\n",
    "            var = (free - meanfree) ** 2\n",
    "            var = var.mean()\n",
    "        tot_var += var\n",
    "        if (epoch+1)%echo == 0:\n",
    "            print('{:5} loss: {:8.4f}, free energy: {:8.4f}, Variance: {:8.4f}'.format(epoch+1, train_loss/echo, free_energy/echo, tot_var/echo))\n",
    "            train_loss = 0.\n",
    "            free_energy = 0.\n",
    "            tot_var = 0.\n",
    "    \n",
    "    with torch.no_grad():\n",
    "        F = []\n",
    "        for i in range(echo):\n",
    "            F.append(model.free_energy(model.sample(batch_size)).mean())\n",
    "    F = torch.tensor(F)\n",
    "    print(F)\n",
    "    print(F.mean(), \" \", F.std())"
   ]
  },
  {
   "cell_type": "code",
   "execution_count": 3,
   "metadata": {},
   "outputs": [
    {
     "name": "stdout",
     "output_type": "stream",
     "text": [
      "  100 loss:   1.6659, free energy: -12.8410, Variance:   3.4485\n",
      "  200 loss:   4.4070, free energy: -13.0259, Variance:   3.0128\n",
      "  300 loss:   2.7476, free energy: -13.0695, Variance:   2.9648\n",
      "  400 loss:   1.4274, free energy: -13.3414, Variance:   2.7925\n",
      "  500 loss:   2.8977, free energy: -13.3349, Variance:   2.7162\n",
      "  600 loss:   2.8323, free energy: -13.3029, Variance:   2.7188\n",
      "  700 loss:   4.1935, free energy: -13.3644, Variance:   2.6363\n",
      "  800 loss:   1.7819, free energy: -13.3364, Variance:   2.6291\n",
      "  900 loss:   2.7482, free energy: -13.4219, Variance:   2.5757\n",
      " 1000 loss:   1.1555, free energy: -13.3038, Variance:   2.5400\n",
      " 1100 loss:   3.9713, free energy: -13.3160, Variance:   2.5455\n",
      " 1200 loss:   2.0384, free energy: -13.3680, Variance:   2.5481\n",
      " 1300 loss:   2.1540, free energy: -13.4215, Variance:   2.5502\n",
      " 1400 loss:  -0.7605, free energy: -13.3845, Variance:   2.5150\n",
      " 1500 loss:   3.7681, free energy: -13.3875, Variance:   2.4830\n",
      " 1600 loss:   4.8029, free energy: -13.4456, Variance:   2.5087\n",
      " 1700 loss:   4.4731, free energy: -13.4373, Variance:   2.4953\n",
      " 1800 loss:  -0.1756, free energy: -13.3483, Variance:   2.4988\n",
      " 1900 loss:   7.4698, free energy: -13.4225, Variance:   2.5215\n",
      " 2000 loss:   1.4337, free energy: -13.4641, Variance:   2.3756\n",
      "tensor([-12.9336, -12.8223, -12.9911, -12.8174, -12.9521, -12.8149, -12.9871,\n",
      "        -13.1299, -13.0845, -12.7885, -13.1414, -12.8939, -12.9735, -13.0353,\n",
      "        -12.8003, -13.1644, -13.2268, -13.0919, -12.9558, -13.1863, -12.8882,\n",
      "        -12.9212, -12.9841, -13.1704, -12.9031, -12.9886, -13.0057, -12.9534,\n",
      "        -12.9761, -13.0506, -12.9967, -12.8726, -12.9623, -12.9081, -13.0415,\n",
      "        -13.1235, -13.1205, -12.8279, -12.8169, -13.0066, -13.1345, -13.0975,\n",
      "        -13.0571, -12.9674, -13.0084, -13.1230, -12.9846, -12.7762, -12.9735,\n",
      "        -13.0185, -13.0219, -12.8165, -13.2266, -12.9379, -12.8414, -13.1347,\n",
      "        -12.9200, -13.1109, -13.0162, -12.8173, -13.0592, -13.0505, -13.0816,\n",
      "        -12.7308, -12.7546, -12.8425, -12.9960, -12.8491, -12.9192, -12.7750,\n",
      "        -13.0772, -13.1677, -12.9036, -13.1278, -13.1183, -12.8364, -12.9175,\n",
      "        -12.9191, -12.9447, -12.8000, -12.8746, -12.9282, -12.8721, -12.8190,\n",
      "        -13.0934, -13.2257, -13.2403, -13.0459, -13.0357, -12.8352, -13.1522,\n",
      "        -13.1452, -13.0131, -12.9805, -13.0835, -12.7955, -12.7785, -12.9870,\n",
      "        -13.0211, -13.1106])\n",
      "tensor(-12.9820)   tensor(0.1266)\n"
     ]
    }
   ],
   "source": [
    "H = lambda J: -J*(TwoBody(torch.tensor([1.,-1.]), (1,0)) \n",
    "                      + TwoBody(torch.tensor([1.,-1.]), (0,1)))\n",
    "batch_size = 100\n",
    "epoch_len = 2000\n",
    "echo = 100\n",
    "seed = 0\n",
    "learn_rate = 0.01\n",
    "hamiltonian = H(0.440686793)\n",
    "hidden_features = [4,4]\n",
    "nonlinearity = 'Tanh'\n",
    "bias = False\n",
    "max_dist = None\n",
    "\n",
    "train_dense(batch_size, epoch_len, echo, seed, learn_rate, hamiltonian, hidden_features, nonlinearity, bias, max_dist)"
   ]
  }
 ],
 "metadata": {
  "kernelspec": {
   "display_name": "Python 3",
   "language": "python",
   "name": "python3"
  },
  "language_info": {
   "codemirror_mode": {
    "name": "ipython",
    "version": 3
   },
   "file_extension": ".py",
   "mimetype": "text/x-python",
   "name": "python",
   "nbconvert_exporter": "python",
   "pygments_lexer": "ipython3",
   "version": "3.8.7"
  }
 },
 "nbformat": 4,
 "nbformat_minor": 4
}
