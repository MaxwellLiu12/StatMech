{
 "cells": [
  {
   "cell_type": "code",
   "execution_count": null,
   "metadata": {},
   "outputs": [],
   "source": [
    "%run \"model.py\""
   ]
  },
  {
   "cell_type": "code",
   "execution_count": null,
   "metadata": {},
   "outputs": [],
   "source": [
    "def train_dense(batch_size, epoch_len, echo, seed, learn_rate, hamiltonian, hidden_features, nonlinearity, bias, max_dist):\n",
    "    \n",
    "    torch.manual_seed(seed)\n",
    "    model = HolographicPixelGCN(\n",
    "                EnergyModel(\n",
    "                    hamiltonian, # Ising critical point\n",
    "                    SymmetricGroup(2), \n",
    "                    Lattice(4, 2, max_dist)), \n",
    "                hidden_features, nonlinearity, bias)\n",
    "    optimizer = optim.Adam(model.parameters(), lr = learn_rate)\n",
    "    \n",
    "    train_loss = 0.\n",
    "    free_energy = 0.\n",
    "    tot_var = 0.\n",
    "    \n",
    "    for epoch in range(epoch_len):\n",
    "        \n",
    "        x = model.sample(batch_size)\n",
    "        log_prob = model.log_prob(x)\n",
    "        energy = model.energy(x)\n",
    "        free = energy + log_prob.detach()\n",
    "        meanfree = free.mean()\n",
    "        loss = (log_prob * (free - meanfree)).sum()\n",
    "        optimizer.zero_grad()\n",
    "        loss.backward()\n",
    "        optimizer.step()\n",
    "        train_loss += loss.item()\n",
    "        free_energy += meanfree.item()\n",
    "        with torch.no_grad():\n",
    "            var = (free - meanfree) ** 2\n",
    "            var = var.mean()\n",
    "        tot_var += var\n",
    "        if (epoch+1)%echo == 0:\n",
    "            print('{:5} loss: {:8.4f}, free energy: {:8.4f}, Variance: {:8.4f}'.format(epoch+1, train_loss/echo, free_energy/echo, tot_var/echo))\n",
    "            train_loss = 0.\n",
    "            free_energy = 0.\n",
    "            tot_var = 0.\n",
    "    \n",
    "    with torch.no_grad():\n",
    "        F = []\n",
    "        for i in range(echo):\n",
    "            F.append(model.free_energy(model.sample(batch_size)).mean())\n",
    "    F = torch.tensor(F)\n",
    "    print(F)\n",
    "    print(F.mean(), \" \", F.std())"
   ]
  },
  {
   "cell_type": "markdown",
   "metadata": {},
   "source": [
    "Transpose"
   ]
  },
  {
   "cell_type": "code",
   "execution_count": null,
   "metadata": {},
   "outputs": [],
   "source": [
    "H = lambda J: -J*(TwoBody(torch.tensor([1.,-1.]), (1,0)) \n",
    "                      + TwoBody(torch.tensor([1.,-1.]), (0,1)))\n",
    "batch_size = 100\n",
    "epoch_len = 2000\n",
    "echo = 100\n",
    "seed = 0\n",
    "learn_rate = 0.01\n",
    "hamiltonian = H(0.440686793)\n",
    "hidden_features = [4,4]\n",
    "nonlinearity = 'Tanh'\n",
    "bias = True\n",
    "max_dist = 60\n",
    "\n",
    "train_dense(batch_size, epoch_len, echo, seed, learn_rate, hamiltonian, hidden_features, nonlinearity, bias, max_dist)"
   ]
  },
  {
   "cell_type": "markdown",
   "metadata": {},
   "source": [
    "Rotate 90"
   ]
  },
  {
   "cell_type": "code",
   "execution_count": null,
   "metadata": {},
   "outputs": [],
   "source": [
    "H = lambda J: -J*(TwoBody(torch.tensor([1.,-1.]), (1,0)) \n",
    "                      + TwoBody(torch.tensor([1.,-1.]), (0,1)))\n",
    "batch_size = 100\n",
    "epoch_len = 2000\n",
    "echo = 100\n",
    "seed = 0\n",
    "learn_rate = 0.01\n",
    "hamiltonian = H(0.440686793)\n",
    "hidden_features = [4,4]\n",
    "nonlinearity = 'Tanh'\n",
    "bias = True\n",
    "\n",
    "train_dense(batch_size, epoch_len, echo, seed, learn_rate, hamiltonian, hidden_features, nonlinearity, bias)"
   ]
  },
  {
   "cell_type": "markdown",
   "metadata": {},
   "source": [
    "Nothing"
   ]
  },
  {
   "cell_type": "code",
   "execution_count": null,
   "metadata": {},
   "outputs": [],
   "source": [
    "H = lambda J: -J*(TwoBody(torch.tensor([1.,-1.]), (1,0)) \n",
    "                      + TwoBody(torch.tensor([1.,-1.]), (0,1)))\n",
    "batch_size = 100\n",
    "epoch_len = 2000\n",
    "echo = 100\n",
    "seed = 0\n",
    "learn_rate = 0.01\n",
    "hamiltonian = H(0.440686793)\n",
    "hidden_features = [4,4]\n",
    "nonlinearity = 'Tanh'\n",
    "bias = True\n",
    "\n",
    "train_dense(batch_size, epoch_len, echo, seed, learn_rate, hamiltonian, hidden_features, nonlinearity, bias)"
   ]
  }
 ],
 "metadata": {
  "kernelspec": {
   "display_name": "Python 3",
   "language": "python",
   "name": "python3"
  },
  "language_info": {
   "codemirror_mode": {
    "name": "ipython",
    "version": 3
   },
   "file_extension": ".py",
   "mimetype": "text/x-python",
   "name": "python",
   "nbconvert_exporter": "python",
   "pygments_lexer": "ipython3",
   "version": "3.8.7"
  }
 },
 "nbformat": 4,
 "nbformat_minor": 4
}
