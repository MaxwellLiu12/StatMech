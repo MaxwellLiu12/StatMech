{
 "cells": [
  {
   "cell_type": "code",
   "execution_count": 1,
   "metadata": {},
   "outputs": [],
   "source": [
    "import torch"
   ]
  },
  {
   "cell_type": "code",
   "execution_count": 18,
   "metadata": {},
   "outputs": [
    {
     "data": {
      "text/plain": [
       "tensor([[  1.,   2.,   3.,   4.,   5.,   6.,   7.],\n",
       "        [  8.,   9.,  10.,  11.,  12.,  13.,  14.],\n",
       "        [ 15.,  16.,  17.,  18.,  19.,  20.,  21.],\n",
       "        [ 22.,  23.,  24.,  25.,  26.,  27.,  28.],\n",
       "        [ 29.,  30.,  31.,  32.,  33.,  34.,  35.],\n",
       "        [ 36.,  37.,  38.,  39.,  40.,  41.,  42.],\n",
       "        [ 43.,  44.,  45.,  46.,  47.,  48.,  49.],\n",
       "        [ 50.,  51.,  52.,  53.,  54.,  55.,  56.],\n",
       "        [ 57.,  58.,  59.,  60.,  61.,  62.,  63.],\n",
       "        [ 64.,  65.,  66.,  67.,  68.,  69.,  70.],\n",
       "        [ 71.,  72.,  73.,  74.,  75.,  76.,  77.],\n",
       "        [ 78.,  79.,  80.,  81.,  82.,  83.,  84.],\n",
       "        [ 85.,  86.,  87.,  88.,  89.,  90.,  91.],\n",
       "        [ 92.,  93.,  94.,  95.,  96.,  97.,  98.],\n",
       "        [ 99., 100., 101., 102., 103., 104., 105.],\n",
       "        [106., 107., 108., 109., 110., 111., 112.],\n",
       "        [  0.,   0.,   0.,   0.,   0.,   0.,   0.],\n",
       "        [  0.,   0.,   0.,   0.,   0.,   0.,   0.],\n",
       "        [  0.,   0.,   0.,   0.,   0.,   0.,   0.],\n",
       "        [  0.,   0.,   0.,   0.,   0.,   0.,   0.],\n",
       "        [  0.,   0.,   0.,   0.,   0.,   0.,   0.],\n",
       "        [  0.,   0.,   0.,   0.,   0.,   0.,   0.],\n",
       "        [  0.,   0.,   0.,   0.,   0.,   0.,   0.],\n",
       "        [  0.,   0.,   0.,   0.,   0.,   0.,   0.],\n",
       "        [  0.,   0.,   0.,   0.,   0.,   0.,   0.],\n",
       "        [  0.,   0.,   0.,   0.,   0.,   0.,   0.],\n",
       "        [  0.,   0.,   0.,   0.,   0.,   0.,   0.],\n",
       "        [  0.,   0.,   0.,   0.,   0.,   0.,   0.],\n",
       "        [  0.,   0.,   0.,   0.,   0.,   0.,   0.],\n",
       "        [  0.,   0.,   0.,   0.,   0.,   0.,   0.],\n",
       "        [  0.,   0.,   0.,   0.,   0.,   0.,   0.],\n",
       "        [  0.,   0.,   0.,   0.,   0.,   0.,   0.]])"
      ]
     },
     "execution_count": 18,
     "metadata": {},
     "output_type": "execute_result"
    }
   ],
   "source": [
    "sites = 16\n",
    "dim = 2\n",
    "batch = 7\n",
    "src = torch.arange(1, sites//2 * dim * batch + 1, dtype=torch.float).view(sites//2 * dim, batch)\n",
    "index = torch.LongTensor(list(range(sites//2 * dim))).unsqueeze(1).expand(src.size())\n",
    "cashe = torch.zeros(sites * dim, batch, dtype = torch.float).scatter(0, index, src)\n",
    "cashe"
   ]
  },
  {
   "cell_type": "code",
   "execution_count": null,
   "metadata": {},
   "outputs": [],
   "source": []
  }
 ],
 "metadata": {
  "kernelspec": {
   "display_name": "Python 3",
   "language": "python",
   "name": "python3"
  },
  "language_info": {
   "codemirror_mode": {
    "name": "ipython",
    "version": 3
   },
   "file_extension": ".py",
   "mimetype": "text/x-python",
   "name": "python",
   "nbconvert_exporter": "python",
   "pygments_lexer": "ipython3",
   "version": "3.8.7"
  }
 },
 "nbformat": 4,
 "nbformat_minor": 4
}
